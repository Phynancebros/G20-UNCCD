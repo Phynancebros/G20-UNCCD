{
 "cells": [
  {
   "cell_type": "code",
   "id": "initial_id",
   "metadata": {
    "collapsed": true,
    "ExecuteTime": {
     "end_time": "2025-03-20T09:32:14.796991Z",
     "start_time": "2025-03-20T09:32:14.349062Z"
    }
   },
   "source": "import pandas as pd",
   "outputs": [],
   "execution_count": 1
  },
  {
   "metadata": {
    "ExecuteTime": {
     "end_time": "2025-03-20T09:32:43.682355Z",
     "start_time": "2025-03-20T09:32:43.660930Z"
    }
   },
   "cell_type": "code",
   "source": [
    "df = pd.read_csv('../graphs/nasa_power_grid_temperature_2022.csv')\n",
    "df"
   ],
   "id": "764ae813707be71",
   "outputs": [
    {
     "data": {
      "text/plain": [
       "     latitude  longitude  temperature_C\n",
       "0        15.0      -17.0      25.863836\n",
       "1        15.0      -16.0      27.329644\n",
       "2        15.0      -15.0      28.305260\n",
       "3        15.0      -14.0      28.464904\n",
       "4        15.0      -13.0      28.197808\n",
       "..        ...        ...            ...\n",
       "135      24.0       -8.0      27.299945\n",
       "136      24.0       -7.0      28.111342\n",
       "137      24.0       -6.0      28.266740\n",
       "138      24.0       -5.0      27.706164\n",
       "139      24.0       -4.0      27.710658\n",
       "\n",
       "[140 rows x 3 columns]"
      ],
      "text/html": [
       "<div>\n",
       "<style scoped>\n",
       "    .dataframe tbody tr th:only-of-type {\n",
       "        vertical-align: middle;\n",
       "    }\n",
       "\n",
       "    .dataframe tbody tr th {\n",
       "        vertical-align: top;\n",
       "    }\n",
       "\n",
       "    .dataframe thead th {\n",
       "        text-align: right;\n",
       "    }\n",
       "</style>\n",
       "<table border=\"1\" class=\"dataframe\">\n",
       "  <thead>\n",
       "    <tr style=\"text-align: right;\">\n",
       "      <th></th>\n",
       "      <th>latitude</th>\n",
       "      <th>longitude</th>\n",
       "      <th>temperature_C</th>\n",
       "    </tr>\n",
       "  </thead>\n",
       "  <tbody>\n",
       "    <tr>\n",
       "      <th>0</th>\n",
       "      <td>15.0</td>\n",
       "      <td>-17.0</td>\n",
       "      <td>25.863836</td>\n",
       "    </tr>\n",
       "    <tr>\n",
       "      <th>1</th>\n",
       "      <td>15.0</td>\n",
       "      <td>-16.0</td>\n",
       "      <td>27.329644</td>\n",
       "    </tr>\n",
       "    <tr>\n",
       "      <th>2</th>\n",
       "      <td>15.0</td>\n",
       "      <td>-15.0</td>\n",
       "      <td>28.305260</td>\n",
       "    </tr>\n",
       "    <tr>\n",
       "      <th>3</th>\n",
       "      <td>15.0</td>\n",
       "      <td>-14.0</td>\n",
       "      <td>28.464904</td>\n",
       "    </tr>\n",
       "    <tr>\n",
       "      <th>4</th>\n",
       "      <td>15.0</td>\n",
       "      <td>-13.0</td>\n",
       "      <td>28.197808</td>\n",
       "    </tr>\n",
       "    <tr>\n",
       "      <th>...</th>\n",
       "      <td>...</td>\n",
       "      <td>...</td>\n",
       "      <td>...</td>\n",
       "    </tr>\n",
       "    <tr>\n",
       "      <th>135</th>\n",
       "      <td>24.0</td>\n",
       "      <td>-8.0</td>\n",
       "      <td>27.299945</td>\n",
       "    </tr>\n",
       "    <tr>\n",
       "      <th>136</th>\n",
       "      <td>24.0</td>\n",
       "      <td>-7.0</td>\n",
       "      <td>28.111342</td>\n",
       "    </tr>\n",
       "    <tr>\n",
       "      <th>137</th>\n",
       "      <td>24.0</td>\n",
       "      <td>-6.0</td>\n",
       "      <td>28.266740</td>\n",
       "    </tr>\n",
       "    <tr>\n",
       "      <th>138</th>\n",
       "      <td>24.0</td>\n",
       "      <td>-5.0</td>\n",
       "      <td>27.706164</td>\n",
       "    </tr>\n",
       "    <tr>\n",
       "      <th>139</th>\n",
       "      <td>24.0</td>\n",
       "      <td>-4.0</td>\n",
       "      <td>27.710658</td>\n",
       "    </tr>\n",
       "  </tbody>\n",
       "</table>\n",
       "<p>140 rows × 3 columns</p>\n",
       "</div>"
      ]
     },
     "execution_count": 2,
     "metadata": {},
     "output_type": "execute_result"
    }
   ],
   "execution_count": 2
  }
 ],
 "metadata": {
  "kernelspec": {
   "display_name": "Python 3",
   "language": "python",
   "name": "python3"
  },
  "language_info": {
   "codemirror_mode": {
    "name": "ipython",
    "version": 2
   },
   "file_extension": ".py",
   "mimetype": "text/x-python",
   "name": "python",
   "nbconvert_exporter": "python",
   "pygments_lexer": "ipython2",
   "version": "2.7.6"
  }
 },
 "nbformat": 4,
 "nbformat_minor": 5
}
